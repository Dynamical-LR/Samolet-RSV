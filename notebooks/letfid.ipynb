{
 "cells": [
  {
   "cell_type": "code",
   "execution_count": 2,
   "metadata": {},
   "outputs": [],
   "source": [
    "text_cols=['col49', 'col50', 'col51', 'col52', 'col53', 'col54', 'col55', 'col56', 'col204', 'col221', 'col222', 'col223', 'col224', 'col225', 'col226', 'col227', 'col228', 'col237', 'col238', 'col239', 'col240', 'col241', 'col242', 'col243', 'col244', 'col457', 'col458', 'col459', 'col460', 'col461', 'col462', 'col463', 'col464', 'col545', 'col546', 'col547', 'col548', 'col549', 'col550', 'col551', 'col552', 'col553', 'col554', 'col555', 'col556', 'col557', 'col558', 'col559', 'col560', 'col1046', 'col1047', 'col1048', 'col1049', 'col1050', 'col1051', 'col1052']\n",
    "cat_cols=['год', 'сезон', 'месяц', 'client_id', 'col57', 'col58', 'col59', 'col60', 'col61', 'col62', 'col63', 'col64', 'col85', 'col86', 'col87', 'col88', 'col89', 'col90', 'col91', 'col92', 'col93', 'col94', 'col95', 'col96', 'col97', 'col98', 'col99', 'col100', 'col129', 'col130', 'col131', 'col132', 'col133', 'col134', 'col135', 'col136', 'col137', 'col138', 'col139', 'col140', 'col141', 'col142', 'col143', 'col144', 'col145', 'col146', 'col147', 'col148', 'col149', 'col150', 'col151', 'col152', 'col153', 'col154', 'col155', 'col156', 'col157', 'col158', 'col159', 'col160', 'col161', 'col162', 'col163', 'col164', 'col165', 'col166', 'col167', 'col168', 'col169', 'col170', 'col171', 'col172', 'col173', 'col174', 'col175', 'col176', 'col181', 'col182', 'col183', 'col184', 'col185', 'col186', 'col187', 'col188', 'col189', 'col190', 'col191', 'col192', 'col193', 'col194', 'col195', 'col196', 'col201', 'col202', 'col203', 'col205', 'col206', 'col207', 'col208', 'col209', 'col210', 'col211', 'col212', 'col213', 'col214', 'col215', 'col216', 'col465', 'col466', 'col467', 'col468', 'col469', 'col470', 'col471', 'col472', 'col513', 'col514', 'col515', 'col516', 'col517', 'col518', 'col519', 'col520', 'col521', 'col522', 'col523', 'col524', 'col525', 'col526', 'col527', 'col528', 'col529', 'col530', 'col531', 'col532', 'col533', 'col534', 'col535', 'col536', 'col537', 'col538', 'col539', 'col540', 'col541', 'col542', 'col543', 'col544', 'col561', 'col562', 'col563', 'col564', 'col565', 'col566', 'col567', 'col568', 'col569', 'col570', 'col571', 'col572', 'col573', 'col574', 'col575', 'col576', 'col577', 'col578', 'col579', 'col580', 'col581', 'col582', 'col583', 'col584', 'col585', 'col586', 'col587', 'col588', 'col589', 'col590', 'col591', 'col592', 'col593', 'col594', 'col595', 'col596', 'col597', 'col598', 'col599', 'col600', 'col601', 'col602', 'col603', 'col604', 'col605', 'col606', 'col607', 'col608', 'col609', 'col610', 'col611', 'col612', 'col613', 'col614', 'col615', 'col616', 'col793', 'col794', 'col795', 'col796', 'col797', 'col798', 'col799', 'col800', 'col1029', 'col1030', 'col1031', 'col1032', 'col1033', 'col1034', 'col1035', 'col1036', 'col1037', 'col1038', 'col1039', 'col1040', 'col1041', 'col1042', 'col1043', 'col1044', 'col1045', 'col1053', 'col1054', 'col1055', 'col1056', 'col1057', 'col1058', 'col1059', 'col1060', 'col1061', 'col1062', 'col1063', 'col1064', 'col1065', 'col1066', 'col1067', 'col1068', 'col1070', 'col1071', 'col1072', 'col1073', 'col1074', 'col1075', 'col1076', 'col1170', 'col1171', 'col1172', 'col1174', 'col1175', 'col1176', 'col1177', 'col1178', 'col1179', 'col1180', 'col1273', 'col1274', 'col1275', 'col1276', 'col1277', 'col1278', 'col1279', 'col1280', 'col1445', 'col1446', 'col1447', 'col1448', 'col1449', 'col1450', 'col1451', 'col1452', 'col1454', 'col1647', 'col1648', 'col1649', 'col1650', 'col1651', 'col1652', 'col1653', 'col1654', 'col2191', 'col2192', 'col2193', 'col2194', 'col2195', 'col2196', 'col2197', 'col2198']"
   ]
  },
  {
   "cell_type": "code",
   "execution_count": 3,
   "metadata": {},
   "outputs": [],
   "source": [
    "cat_cols.remove('client_id')\n",
    "cat_cols.remove('col1454')"
   ]
  },
  {
   "cell_type": "code",
   "execution_count": 4,
   "metadata": {},
   "outputs": [],
   "source": [
    "from tqdm import tqdm\n",
    "\n",
    "import pandas as pd\n",
    "import numpy as np\n",
    "from sklearn.preprocessing import LabelEncoder, MinMaxScaler, StandardScaler, PowerTransformer\n",
    "from sklearn.feature_extraction.text import TfidfVectorizer\n",
    "\n",
    "from catboost import CatBoostClassifier\n",
    "from sklearn.neighbors import KNeighborsClassifier\n",
    "from sklearn.linear_model import LogisticRegression\n",
    "import lightgbm as lgb\n",
    "\n",
    "from sklearn.model_selection import KFold, TimeSeriesSplit, GroupKFold, GroupShuffleSplit\n",
    "from sklearn.metrics import roc_auc_score, precision_score, recall_score, f1_score, accuracy_score\n",
    "\n",
    "import matplotlib.pyplot as plt\n",
    "import seaborn as sns"
   ]
  },
  {
   "cell_type": "code",
   "execution_count": 5,
   "metadata": {},
   "outputs": [],
   "source": [
    "df = pd.read_csv(\"../datasets/raw_data/dataset.csv\", low_memory=False)\n",
    "\n",
    "df['report_date'] = pd.to_datetime(df['report_date'])\n",
    "df = df.sort_values('report_date')\n",
    "df['год'] = df['report_date'].dt.year\n",
    "df['сезон'] = (df['report_date'].dt.quarter % 4) + 1  # Добавьте 1, чтобы начать с 1\n",
    "df['месяц'] = df['report_date'].dt.month\n",
    "df.fillna(-1, inplace=True)\n",
    "df.drop(columns=['report_date'], inplace=True)\n",
    "\n",
    "for col in text_cols:\n",
    "    df[col] = df[col].astype(str)\n",
    "for col in cat_cols:\n",
    "    df[col] = df[col].astype(str)\n",
    "    le = LabelEncoder()\n",
    "    df[col] = le.fit_transform(df[col])"
   ]
  },
  {
   "cell_type": "code",
   "execution_count": 30,
   "metadata": {},
   "outputs": [],
   "source": [
    "X = df.drop(columns=['target','client_id','col1454'])\n",
    "y = df['target']\n",
    "\n",
    "# Convert categorical columns to 'category' type\n",
    "for col in cat_cols:\n",
    "    X[col] = X[col].astype('category')\n",
    "\n",
    "# Transform text columns using TF-IDF\n",
    "# Note: This is just one way to handle text features. Depending on your data, other methods might be more appropriate.\n",
    "tfidf = TfidfVectorizer(max_features=15)  # Limiting to 100 features per text column for simplicity\n",
    "for col in text_cols:\n",
    "    tfidf_matrix = tfidf.fit_transform(X[col].fillna(''))\n",
    "    tfidf_df = pd.DataFrame(tfidf_matrix.toarray(), columns=[f\"{col}_{i}\" for i in range(tfidf_matrix.shape[1])])\n",
    "    X = pd.concat([X, tfidf_df], axis=1)\n",
    "    X = X.drop(col, axis=1)\n",
    "\n",
    "for col in ['col819', 'col820', 'col823', 'col824']:\n",
    "    X[col] = X[col].replace('None', -1).astype(int)"
   ]
  },
  {
   "cell_type": "code",
   "execution_count": 64,
   "metadata": {},
   "outputs": [
    {
     "data": {
      "text/plain": [
       "0.7313444411411141"
      ]
     },
     "execution_count": 64,
     "metadata": {},
     "output_type": "execute_result"
    }
   ],
   "source": [
    "avgrocs = {}\n",
    "m = df['client_id']<3000\n",
    "X_tr, y_tr = X[m], y[m]\n",
    "X_vl, y_vl = X[~m], y[~m]\n",
    "mms = MinMaxScaler((-2,2))\n",
    "X_tr_ = mms.fit_transform(np.column_stack((y_tr, X_tr)))\n",
    "X_vl_ = mms.transform(np.column_stack((np.full_like(y_vl, 0), X_vl)))\n",
    "X_ = np.vstack((X_tr_, X_vl_))\n",
    "gram = X_.T @ X_\n",
    "diag_indices = np.diag_indices(gram.shape[0])\n",
    "presicion = np.linalg.inv(gram + 1e5*np.eye(gram.shape[0]))\n",
    "B = presicion / (-np.diag(presicion))\n",
    "B[diag_indices] = 0\n",
    "pred_tr, pred_vl = X_tr_@B[:,0], X_vl_@B[:,0]\n",
    "roc_auc_score(y_vl, pred_vl)\n"
   ]
  },
  {
   "cell_type": "code",
   "execution_count": 65,
   "metadata": {},
   "outputs": [
    {
     "name": "stdout",
     "output_type": "stream",
     "text": [
      "0.7852\n"
     ]
    }
   ],
   "source": [
    "avgrocs = {}\n",
    "m = df['client_id']<3000\n",
    "X_tr, y_tr = X[m], y[m]\n",
    "X_vl, y_vl = X[~m], y[~m]\n",
    "model_cb = CatBoostClassifier(verbose=0, cat_features=cat_cols, iterations=1000, depth=3)\n",
    "model_cb.fit(X_tr, y_tr)\n",
    "print(f\"{roc_auc_score(y_vl, model_cb.predict_proba(X_vl)[:,1]):.4f}\")"
   ]
  },
  {
   "cell_type": "code",
   "execution_count": 66,
   "metadata": {},
   "outputs": [],
   "source": [
    "sX_vl = np.column_stack((model_cb.predict_proba(X_vl)[:,1], pred_vl))\n",
    "sX_tr = np.column_stack((model_cb.predict_proba(X_tr)[:,1], pred_tr))"
   ]
  },
  {
   "cell_type": "code",
   "execution_count": 67,
   "metadata": {},
   "outputs": [
    {
     "name": "stdout",
     "output_type": "stream",
     "text": [
      "0.7771\n"
     ]
    }
   ],
   "source": [
    "head = LogisticRegression().fit(sX_tr, y_tr)\n",
    "print(f\"{roc_auc_score(y_vl, head.predict_proba(sX_vl)[:,1]):.4f}\")"
   ]
  },
  {
   "cell_type": "code",
   "execution_count": 69,
   "metadata": {},
   "outputs": [
    {
     "name": "stdout",
     "output_type": "stream",
     "text": [
      "0.9118231582464713 0.7983355809357818\n"
     ]
    }
   ],
   "source": [
    "\n",
    "rocs_tr, rocs_vl = [], []\n",
    "# for tr, vl in KFold(5, shuffle=True, random_state=0).split(X):\n",
    "for tr, vl in KFold(5).split(X):\n",
    "    X_tr, X_vl = X.iloc[tr], X.iloc[vl]\n",
    "    y_tr, y_vl = y.iloc[tr], y.iloc[vl]\n",
    "\n",
    "    model_cb = CatBoostClassifier(verbose=0, cat_features=cat_cols, depth=3)\n",
    "    model_cb.fit(X_tr, y_tr)\n",
    "\n",
    "    mms = MinMaxScaler((-2,2))\n",
    "    X_tr_ = mms.fit_transform(np.column_stack((y_tr, X_tr)))\n",
    "    X_vl_ = mms.transform(np.column_stack((np.full_like(y_vl, 0), X_vl)))\n",
    "    X_ = np.vstack((X_tr_, X_vl_))\n",
    "    gram = X_.T @ X_\n",
    "    diag_indices = np.diag_indices(gram.shape[0])\n",
    "    presicion = np.linalg.inv(gram + 1e4*np.eye(gram.shape[0]))\n",
    "    B = presicion / (-np.diag(presicion))\n",
    "    B[diag_indices] = 0\n",
    "    pred_tr, pred_vl = X_tr_@B[:,0], X_vl_@B[:,0]\n",
    "\n",
    "    sX_tr = np.column_stack((model_cb.predict_proba(X_tr)[:,1], pred_tr))\n",
    "    sX_vl= np.column_stack((model_cb.predict_proba(X_vl)[:,1], pred_vl))\n",
    "    head = LogisticRegression().fit(sX_tr, y_tr)\n",
    "\n",
    "    rocs_tr.append(roc_auc_score(y_tr, head.predict_proba(sX_tr)[:,1]))\n",
    "    rocs_vl.append(roc_auc_score(y_vl, head.predict_proba(sX_vl)[:,1]))\n",
    "print(np.mean(rocs_tr), np.mean(rocs_vl))"
   ]
  },
  {
   "cell_type": "markdown",
   "metadata": {},
   "source": [
    "| $\\Lambda$ | record | month | client |\n",
    "|---|---|---|---|\n",
    "| 1e5 | 0.7461 | 0.7158 | __0.7402__ |\n",
    "| 1e4 | 0.7892 | __0.7411__ | 0.7304 |\n",
    "| 1e3 | 0.8076 | __0.7411__ | 0.7229 |\n",
    "| 1e2 | __0.8096__ | 0.7340 | 0.7035 |\n"
   ]
  },
  {
   "cell_type": "markdown",
   "metadata": {},
   "source": [
    "| model | record | month  | client |\n",
    "|---|---|---|---|\n",
    "| ease | 0.8096 | 0.7411 | 0.7402 |\n",
    "| cb6 | 0.9053 | 0.8228 | 0.7675 |\n",
    "| cb3 |  | 0.8134 | 0.7771 |\n",
    "| stack3 | | 0.7983 |"
   ]
  },
  {
   "cell_type": "code",
   "execution_count": 68,
   "metadata": {},
   "outputs": [
    {
     "data": {
      "text/html": [
       "<div>\n",
       "<style scoped>\n",
       "    .dataframe tbody tr th:only-of-type {\n",
       "        vertical-align: middle;\n",
       "    }\n",
       "\n",
       "    .dataframe tbody tr th {\n",
       "        vertical-align: top;\n",
       "    }\n",
       "\n",
       "    .dataframe thead th {\n",
       "        text-align: right;\n",
       "    }\n",
       "</style>\n",
       "<table border=\"1\" class=\"dataframe\">\n",
       "  <thead>\n",
       "    <tr style=\"text-align: right;\">\n",
       "      <th></th>\n",
       "      <th>name</th>\n",
       "      <th>imp</th>\n",
       "    </tr>\n",
       "  </thead>\n",
       "  <tbody>\n",
       "    <tr>\n",
       "      <th>112</th>\n",
       "      <td>col121</td>\n",
       "      <td>0.011244</td>\n",
       "    </tr>\n",
       "    <tr>\n",
       "      <th>119</th>\n",
       "      <td>col128</td>\n",
       "      <td>0.016753</td>\n",
       "    </tr>\n",
       "    <tr>\n",
       "      <th>131</th>\n",
       "      <td>col140</td>\n",
       "      <td>0.011157</td>\n",
       "    </tr>\n",
       "    <tr>\n",
       "      <th>139</th>\n",
       "      <td>col148</td>\n",
       "      <td>0.014696</td>\n",
       "    </tr>\n",
       "    <tr>\n",
       "      <th>214</th>\n",
       "      <td>col232</td>\n",
       "      <td>0.020685</td>\n",
       "    </tr>\n",
       "    <tr>\n",
       "      <th>...</th>\n",
       "      <td>...</td>\n",
       "      <td>...</td>\n",
       "    </tr>\n",
       "    <tr>\n",
       "      <th>6702</th>\n",
       "      <td>col556_24</td>\n",
       "      <td>0.015702</td>\n",
       "    </tr>\n",
       "    <tr>\n",
       "      <th>6706</th>\n",
       "      <td>col556_28</td>\n",
       "      <td>0.012599</td>\n",
       "    </tr>\n",
       "    <tr>\n",
       "      <th>6921</th>\n",
       "      <td>col558_43</td>\n",
       "      <td>0.047866</td>\n",
       "    </tr>\n",
       "    <tr>\n",
       "      <th>7055</th>\n",
       "      <td>col559_77</td>\n",
       "      <td>0.040611</td>\n",
       "    </tr>\n",
       "    <tr>\n",
       "      <th>7137</th>\n",
       "      <td>col560_59</td>\n",
       "      <td>0.013645</td>\n",
       "    </tr>\n",
       "  </tbody>\n",
       "</table>\n",
       "<p>463 rows × 2 columns</p>\n",
       "</div>"
      ],
      "text/plain": [
       "           name       imp\n",
       "112      col121  0.011244\n",
       "119      col128  0.016753\n",
       "131      col140  0.011157\n",
       "139      col148  0.014696\n",
       "214      col232  0.020685\n",
       "...         ...       ...\n",
       "6702  col556_24  0.015702\n",
       "6706  col556_28  0.012599\n",
       "6921  col558_43  0.047866\n",
       "7055  col559_77  0.040611\n",
       "7137  col560_59  0.013645\n",
       "\n",
       "[463 rows x 2 columns]"
      ]
     },
     "execution_count": 68,
     "metadata": {},
     "output_type": "execute_result"
    }
   ],
   "source": [
    "imp = pd.DataFrame({'name':model_cb.feature_names_,'imp':model_cb.feature_importances_})\n",
    "imp[imp['imp']>1e-2]"
   ]
  }
 ],
 "metadata": {
  "kernelspec": {
   "display_name": "venv",
   "language": "python",
   "name": "python3"
  },
  "language_info": {
   "codemirror_mode": {
    "name": "ipython",
    "version": 3
   },
   "file_extension": ".py",
   "mimetype": "text/x-python",
   "name": "python",
   "nbconvert_exporter": "python",
   "pygments_lexer": "ipython3",
   "version": "3.10.6"
  },
  "orig_nbformat": 4
 },
 "nbformat": 4,
 "nbformat_minor": 2
}
