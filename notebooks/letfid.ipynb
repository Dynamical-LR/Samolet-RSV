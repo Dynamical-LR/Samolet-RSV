{
 "cells": [
  {
   "cell_type": "code",
   "execution_count": 1,
   "metadata": {},
   "outputs": [],
   "source": [
    "text_cols=['col49', 'col50', 'col51', 'col52', 'col53', 'col54', 'col55', 'col56', 'col204', 'col221', 'col222', 'col223', 'col224', 'col225', 'col226', 'col227', 'col228', 'col237', 'col238', 'col239', 'col240', 'col241', 'col242', 'col243', 'col244', 'col457', 'col458', 'col459', 'col460', 'col461', 'col462', 'col463', 'col464', 'col545', 'col546', 'col547', 'col548', 'col549', 'col550', 'col551', 'col552', 'col553', 'col554', 'col555', 'col556', 'col557', 'col558', 'col559', 'col560', 'col1046', 'col1047', 'col1048', 'col1049', 'col1050', 'col1051', 'col1052']\n",
    "cat_cols=['год', 'сезон', 'месяц', 'client_id', 'col57', 'col58', 'col59', 'col60', 'col61', 'col62', 'col63', 'col64', 'col85', 'col86', 'col87', 'col88', 'col89', 'col90', 'col91', 'col92', 'col93', 'col94', 'col95', 'col96', 'col97', 'col98', 'col99', 'col100', 'col129', 'col130', 'col131', 'col132', 'col133', 'col134', 'col135', 'col136', 'col137', 'col138', 'col139', 'col140', 'col141', 'col142', 'col143', 'col144', 'col145', 'col146', 'col147', 'col148', 'col149', 'col150', 'col151', 'col152', 'col153', 'col154', 'col155', 'col156', 'col157', 'col158', 'col159', 'col160', 'col161', 'col162', 'col163', 'col164', 'col165', 'col166', 'col167', 'col168', 'col169', 'col170', 'col171', 'col172', 'col173', 'col174', 'col175', 'col176', 'col181', 'col182', 'col183', 'col184', 'col185', 'col186', 'col187', 'col188', 'col189', 'col190', 'col191', 'col192', 'col193', 'col194', 'col195', 'col196', 'col201', 'col202', 'col203', 'col205', 'col206', 'col207', 'col208', 'col209', 'col210', 'col211', 'col212', 'col213', 'col214', 'col215', 'col216', 'col465', 'col466', 'col467', 'col468', 'col469', 'col470', 'col471', 'col472', 'col513', 'col514', 'col515', 'col516', 'col517', 'col518', 'col519', 'col520', 'col521', 'col522', 'col523', 'col524', 'col525', 'col526', 'col527', 'col528', 'col529', 'col530', 'col531', 'col532', 'col533', 'col534', 'col535', 'col536', 'col537', 'col538', 'col539', 'col540', 'col541', 'col542', 'col543', 'col544', 'col561', 'col562', 'col563', 'col564', 'col565', 'col566', 'col567', 'col568', 'col569', 'col570', 'col571', 'col572', 'col573', 'col574', 'col575', 'col576', 'col577', 'col578', 'col579', 'col580', 'col581', 'col582', 'col583', 'col584', 'col585', 'col586', 'col587', 'col588', 'col589', 'col590', 'col591', 'col592', 'col593', 'col594', 'col595', 'col596', 'col597', 'col598', 'col599', 'col600', 'col601', 'col602', 'col603', 'col604', 'col605', 'col606', 'col607', 'col608', 'col609', 'col610', 'col611', 'col612', 'col613', 'col614', 'col615', 'col616', 'col793', 'col794', 'col795', 'col796', 'col797', 'col798', 'col799', 'col800', 'col1029', 'col1030', 'col1031', 'col1032', 'col1033', 'col1034', 'col1035', 'col1036', 'col1037', 'col1038', 'col1039', 'col1040', 'col1041', 'col1042', 'col1043', 'col1044', 'col1045', 'col1053', 'col1054', 'col1055', 'col1056', 'col1057', 'col1058', 'col1059', 'col1060', 'col1061', 'col1062', 'col1063', 'col1064', 'col1065', 'col1066', 'col1067', 'col1068', 'col1070', 'col1071', 'col1072', 'col1073', 'col1074', 'col1075', 'col1076', 'col1170', 'col1171', 'col1172', 'col1174', 'col1175', 'col1176', 'col1177', 'col1178', 'col1179', 'col1180', 'col1273', 'col1274', 'col1275', 'col1276', 'col1277', 'col1278', 'col1279', 'col1280', 'col1445', 'col1446', 'col1447', 'col1448', 'col1449', 'col1450', 'col1451', 'col1452', 'col1454', 'col1647', 'col1648', 'col1649', 'col1650', 'col1651', 'col1652', 'col1653', 'col1654', 'col2191', 'col2192', 'col2193', 'col2194', 'col2195', 'col2196', 'col2197', 'col2198']"
   ]
  },
  {
   "cell_type": "code",
   "execution_count": 22,
   "metadata": {},
   "outputs": [],
   "source": [
    "cat_cols.remove('client_id')\n",
    "cat_cols.remove('col1454')"
   ]
  },
  {
   "cell_type": "code",
   "execution_count": 128,
   "metadata": {},
   "outputs": [],
   "source": [
    "from tqdm import tqdm\n",
    "\n",
    "import pandas as pd\n",
    "import numpy as np\n",
    "from sklearn.preprocessing import LabelEncoder, MinMaxScaler, StandardScaler\n",
    "from sklearn.feature_extraction.text import TfidfVectorizer\n",
    "\n",
    "from catboost import CatBoostClassifier\n",
    "from sklearn.neighbors import KNeighborsClassifier\n",
    "from sklearn.linear_model import LogisticRegression\n",
    "import lightgbm as lgb\n",
    "\n",
    "from sklearn.model_selection import KFold, TimeSeriesSplit, GroupKFold, GroupShuffleSplit\n",
    "from sklearn.metrics import roc_auc_score, precision_score\n",
    "\n",
    "import matplotlib.pyplot as plt\n",
    "import seaborn as sns"
   ]
  },
  {
   "cell_type": "code",
   "execution_count": 3,
   "metadata": {},
   "outputs": [
    {
     "name": "stderr",
     "output_type": "stream",
     "text": [
      "/var/folders/1j/52ghjy5x1v13yrj1b6fgwlcc0000gn/T/ipykernel_27317/3826994616.py:1: DtypeWarning: Columns (51,52,53,54,55,56,57,58,59,60,61,62,63,64,65,66,87,88,89,90,91,92,93,94,95,96,97,98,99,100,101,102,131,132,133,135,136,139,140,141,142,143,144,145,146,147,148,149,151,152,155,156,157,158,159,160,161,163,164,165,167,168,169,171,172,173,174,175,176,177,178,183,184,185,186,187,188,189,190,191,192,193,194,195,196,197,198,203,204,205,206,207,208,209,210,211,212,213,214,215,216,217,218,223,224,227,239,240,241,242,243,244,245,246,459,460,461,467,468,469,515,516,523,524,531,532,539,540,547,548,555,556,563,564,565,567,571,572,573,575,579,580,581,582,583,587,588,595,596,603,604,611,612,613,615,795,796,797,799,821,822,825,826,1031,1032,1033,1034,1035,1036,1037,1039,1040,1041,1042,1043,1044,1045,1047,1048,1049,1050,1051,1052,1055,1056,1057,1058,1059,1060,1063,1064,1065,1067,1068,1069,1072,1073,1074,1075,1076,1077,1078,1172,1173,1174,1176,1177,1178,1179,1180,1181,1182,1275,1276,1277,1278,1279,1280,1281,1282,1447,1448,1449,1450,1451,1452,1453,1454,1649,1650,1651,1652,1653,1654,1655,1656,2193,2194,2195,2196,2199) have mixed types. Specify dtype option on import or set low_memory=False.\n",
      "  df = pd.read_csv(\"../datasets/raw_data/dataset.csv\")\n"
     ]
    }
   ],
   "source": [
    "df = pd.read_csv(\"../datasets/raw_data/dataset.csv\")\n",
    "\n",
    "df['report_date'] = pd.to_datetime(df['report_date'])\n",
    "df['год'] = df['report_date'].dt.year\n",
    "df['сезон'] = (df['report_date'].dt.quarter % 4) + 1  # Добавьте 1, чтобы начать с 1\n",
    "df['месяц'] = df['report_date'].dt.month\n",
    "df.fillna(-1, inplace=True)\n",
    "df.drop(columns=['report_date'], inplace=True)\n",
    "\n",
    "for col in text_cols:\n",
    "    df[col] = df[col].astype(str)\n",
    "for col in cat_cols:\n",
    "    df[col] = df[col].astype(str)\n",
    "    le = LabelEncoder()\n",
    "    df[col] = le.fit_transform(df[col])"
   ]
  },
  {
   "cell_type": "code",
   "execution_count": 23,
   "metadata": {},
   "outputs": [],
   "source": [
    "X = df.drop(columns=['target','client_id','col1454'])\n",
    "y = df['target']"
   ]
  },
  {
   "cell_type": "code",
   "execution_count": 24,
   "metadata": {},
   "outputs": [],
   "source": [
    "# Convert categorical columns to 'category' type\n",
    "for col in cat_cols:\n",
    "    X[col] = X[col].astype('category')\n",
    "\n",
    "# Transform text columns using TF-IDF\n",
    "# Note: This is just one way to handle text features. Depending on your data, other methods might be more appropriate.\n",
    "tfidf = TfidfVectorizer(max_features=100)  # Limiting to 100 features per text column for simplicity\n",
    "for col in text_cols:\n",
    "    tfidf_matrix = tfidf.fit_transform(X[col].fillna(''))\n",
    "    tfidf_df = pd.DataFrame(tfidf_matrix.toarray(), columns=[f\"{col}_{i}\" for i in range(tfidf_matrix.shape[1])])\n",
    "    X = pd.concat([X, tfidf_df], axis=1)\n",
    "    X = X.drop(col, axis=1)\n",
    "\n",
    "for col in ['col819', 'col820', 'col823', 'col824']:\n",
    "    X[col] = X[col].replace('None', -1).astype(int)"
   ]
  },
  {
   "cell_type": "code",
   "execution_count": 25,
   "metadata": {},
   "outputs": [],
   "source": [
    "m = df['client_id']<4000\n",
    "X_tr, y_tr = X[m], y[m]\n",
    "X_vl, y_vl = X[~m], y[~m]"
   ]
  },
  {
   "cell_type": "code",
   "execution_count": 14,
   "metadata": {},
   "outputs": [
    {
     "name": "stdout",
     "output_type": "stream",
     "text": [
      "0.7605\n"
     ]
    }
   ],
   "source": [
    "# Train LightGBM model\n",
    "model_lgb = lgb.LGBMClassifier()\n",
    "model_lgb.fit(X_tr, y_tr)\n",
    "print(f\"{roc_auc_score(y_vl, model_lgb.predict_proba(X_vl)[:,1]):.4f}\")"
   ]
  },
  {
   "cell_type": "code",
   "execution_count": 26,
   "metadata": {},
   "outputs": [
    {
     "name": "stdout",
     "output_type": "stream",
     "text": [
      "0.7717\n"
     ]
    }
   ],
   "source": [
    "model_cb = CatBoostClassifier(verbose=0, cat_features=cat_cols)\n",
    "model_cb.fit(X_tr, y_tr)\n",
    "print(f\"{roc_auc_score(y_vl, model_cb.predict_proba(X_vl)[:,1]):.4f}\")"
   ]
  },
  {
   "cell_type": "code",
   "execution_count": 98,
   "metadata": {},
   "outputs": [
    {
     "name": "stdout",
     "output_type": "stream",
     "text": [
      "0.7535\n",
      "0.7743\n"
     ]
    }
   ],
   "source": [
    "mms = MinMaxScaler((-1,1))\n",
    "X_tr_ = mms.fit_transform(np.column_stack((y_tr, X_tr)))\n",
    "X_vl_ = mms.transform(np.column_stack((np.full_like(y_vl, 0), X_vl)))\n",
    "X_ = np.vstack((X_tr_, X_vl_))\n",
    "gram = X_.T @ X_\n",
    "diag_indices = np.diag_indices(gram.shape[0])\n",
    "presicion = np.linalg.inv(gram + 1e5*np.eye(gram.shape[0]))\n",
    "B = presicion / (-np.diag(presicion))\n",
    "B[diag_indices] = 0\n",
    "pred_tr, pred_vl = X_tr_@B[:,0], X_vl_@B[:,0]\n",
    "print(f\"{roc_auc_score(y_tr, pred_tr):.4f}\")\n",
    "print(f\"{roc_auc_score(y_vl, pred_vl):.4f}\")"
   ]
  },
  {
   "cell_type": "markdown",
   "metadata": {},
   "source": [
    "| model | client |\n",
    "|---|---|\n",
    "| ease1e5 | 0.7743 |\n",
    "| ease1e4 | 0.7668 |\n",
    "| lgb     | 0.7605 |\n",
    "| catboost| 0.7717 |\n",
    "| knn     | 0.5627 |"
   ]
  },
  {
   "cell_type": "code",
   "execution_count": 158,
   "metadata": {},
   "outputs": [
    {
     "name": "stderr",
     "output_type": "stream",
     "text": [
      "  0%|          | 0/5 [00:00<?, ?it/s]"
     ]
    },
    {
     "name": "stderr",
     "output_type": "stream",
     "text": [
      "100%|██████████| 5/5 [04:47<00:00, 57.52s/it, roc_auc=0.76] "
     ]
    },
    {
     "name": "stdout",
     "output_type": "stream",
     "text": [
      "0.7881\n"
     ]
    },
    {
     "name": "stderr",
     "output_type": "stream",
     "text": [
      "\n"
     ]
    }
   ],
   "source": [
    "rocs = []\n",
    "t = tqdm(KFold(5).split(X), total=5)\n",
    "for tr, vl in t:\n",
    "    X_tr, X_vl = X.values[tr], X.values[vl]\n",
    "    y_tr, y_vl = y.values[tr], y.values[vl]\n",
    "        \n",
    "    mms = MinMaxScaler((-1,1))\n",
    "    X_tr_ = mms.fit_transform(np.column_stack((y_tr, X_tr)))\n",
    "    X_vl_ = mms.transform(np.column_stack((np.full_like(y_vl, 0), X_vl)))\n",
    "    X_ = np.vstack((X_tr_, X_vl_))\n",
    "    gram = X_.T @ X_\n",
    "    diag_indices = np.diag_indices(gram.shape[0])\n",
    "    presicion = np.linalg.inv(gram + 1e1*np.eye(gram.shape[0]))\n",
    "    B = presicion / (-np.diag(presicion))\n",
    "    B[diag_indices] = 0\n",
    "\n",
    "    pred_tr, pred_vl = X_tr_@B[:,0], X_vl_@B[:,0]\n",
    "    # # заполнить таргет предсказанием, чтобы он в фичи не утекал\n",
    "    # X_tr[:,0], X_vl[:,0] = pred_tr, pred_vl\n",
    "    # # инпут значений для дальнейших моделей\n",
    "    # X_tr, X_vl = X_tr@B, X_vl@B\n",
    "\n",
    "    roc = roc_auc_score(y_vl, pred_vl)\n",
    "    rocs.append(roc)\n",
    "    t.set_postfix(roc_auc=roc)\n",
    "print(f\"{np.mean(rocs):.4f}\")"
   ]
  },
  {
   "cell_type": "markdown",
   "metadata": {},
   "source": [
    "| $\\lambda$ | record | month | client |\n",
    "|---|---|---|---|\n",
    "| 1e5 |  | 0.7442 | 0.7743 |\n",
    "| 1e4 |  | 0.7873 | 0.7668 |\n",
    "| 1e3 |  | 0.8039 | |\n",
    "| 1e3 |  | 0.8074 | |"
   ]
  }
 ],
 "metadata": {
  "kernelspec": {
   "display_name": "venv",
   "language": "python",
   "name": "python3"
  },
  "language_info": {
   "codemirror_mode": {
    "name": "ipython",
    "version": 3
   },
   "file_extension": ".py",
   "mimetype": "text/x-python",
   "name": "python",
   "nbconvert_exporter": "python",
   "pygments_lexer": "ipython3",
   "version": "3.10.6"
  },
  "orig_nbformat": 4
 },
 "nbformat": 4,
 "nbformat_minor": 2
}
