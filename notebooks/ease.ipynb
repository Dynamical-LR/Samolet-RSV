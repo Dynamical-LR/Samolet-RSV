{
 "cells": [
  {
   "cell_type": "code",
   "execution_count": 278,
   "id": "d0c3f817-e3f5-4175-a3c3-8b183f2c8278",
   "metadata": {},
   "outputs": [],
   "source": [
    "import pandas as pd\n",
    "import matplotlib.pyplot as plt\n",
    "import seaborn as sns\n",
    "import seaborn as sns\n",
    "import numpy as np\n",
    "from tqdm import tqdm\n",
    "import warnings\n",
    "warnings.filterwarnings('ignore')\n",
    "\n",
    "from sklearn.metrics import roc_auc_score, recall_score, precision_score, f1_score, accuracy_score\n",
    "from sklearn.preprocessing import OneHotEncoder, MinMaxScaler\n",
    "from sklearn.model_selection import KFold, TimeSeriesSplit\n",
    "\n",
    "from catboost import CatBoostClassifier\n",
    "from sklearn.neighbors import KNeighborsClassifier\n",
    "from sklearn.linear_model import LinearRegression"
   ]
  },
  {
   "cell_type": "code",
   "execution_count": 272,
   "id": "a0f6805c-3309-43c2-92ea-570e96691bfa",
   "metadata": {},
   "outputs": [
    {
     "name": "stdout",
     "output_type": "stream",
     "text": [
      "<class 'pandas.core.frame.DataFrame'>\n",
      "RangeIndex: 14456 entries, 0 to 14455\n",
      "Columns: 711 entries, report_date to col2663\n",
      "dtypes: float64(698), int64(3), object(10)\n",
      "memory usage: 78.4+ MB\n"
     ]
    }
   ],
   "source": [
    "df = pd.read_csv(\"../data/train.csv\")\n",
    "target = df['target']\n",
    "df = pd.DataFrame(df.iloc[:,(df.count(0)/df.shape[0] > 0.1).values])\n",
    "df = df.replace('None', np.NaN)\n",
    "df.info()"
   ]
  },
  {
   "cell_type": "code",
   "execution_count": 273,
   "id": "283be40f",
   "metadata": {},
   "outputs": [],
   "source": [
    "df['report_date'] = pd.to_datetime(df['report_date'])\n",
    "df = df.sort_values('report_date')\n",
    "df.drop(columns='report_date')"
   ]
  },
  {
   "cell_type": "code",
   "execution_count": 274,
   "id": "0c49ce89",
   "metadata": {},
   "outputs": [
    {
     "name": "stderr",
     "output_type": "stream",
     "text": [
      "100%|██████████| 709/709 [00:00<00:00, 2760.86it/s]\n"
     ]
    },
    {
     "name": "stdout",
     "output_type": "stream",
     "text": [
      "<class 'pandas.core.frame.DataFrame'>\n",
      "Int64Index: 14456 entries, 9374 to 12107\n",
      "Columns: 6006 entries, target to col2663\n",
      "dtypes: float64(6006)\n",
      "memory usage: 662.5 MB\n"
     ]
    }
   ],
   "source": [
    "def check(c): \n",
    "    cor = np.abs(np.corrcoef([c, target])[0,1])\n",
    "    return cor > 1e-5\n",
    "\n",
    "cols = []\n",
    "for i in tqdm(range(2, df.shape[1])):\n",
    "    ds = df.iloc[:,i]\n",
    "    dtype = df.dtypes[i]\n",
    "\n",
    "    if dtype!=np.object0:\n",
    "        # if check(ds):\n",
    "        cols.append(ds)\n",
    "    else:\n",
    "        dsohe = OneHotEncoder(sparse_output=False).fit_transform(np.array(ds.values.reshape((-1,1)), np.object0))\n",
    "        for j in range(dsohe.shape[1]):\n",
    "            # if check(dsohe[:,j]):\n",
    "            cols.append(pd.Series(dsohe[:,j], name=ds.name+'_'+str(j)))\n",
    "dfc = pd.DataFrame(cols).T.fillna(0)\n",
    "dfc.info()"
   ]
  },
  {
   "cell_type": "code",
   "execution_count": 275,
   "id": "c9b1de55",
   "metadata": {},
   "outputs": [],
   "source": [
    "X = MinMaxScaler().fit_transform(dfc)"
   ]
  },
  {
   "cell_type": "code",
   "execution_count": 283,
   "id": "5279909f",
   "metadata": {},
   "outputs": [
    {
     "name": "stderr",
     "output_type": "stream",
     "text": [
      " 40%|████      | 8/20 [02:48<04:34, 22.91s/it, roc_auc=0.84] "
     ]
    }
   ],
   "source": [
    "LAMBDA = 5e-1\n",
    "rocs = []\n",
    "# t = tqdm(KFold(20).split(X), total=20)\n",
    "t = tqdm(TimeSeriesSplit(20).split(X), total=20)\n",
    "for tr, vl in t:\n",
    "    X_tr, X_vl = X[tr], X[vl]\n",
    "    y_tr, y_vl = X_tr[:,0], X_vl[:,0]\n",
    "\n",
    "    gram = X_tr.T @ X_tr\n",
    "    diag_indices = np.diag_indices(gram.shape[0])\n",
    "    presicion = np.linalg.inv(gram + LAMBDA*np.eye(gram.shape[0]))\n",
    "    B = presicion / (-np.diag(presicion))\n",
    "    B[diag_indices] = 0\n",
    "\n",
    "    pred_tr, pred_vl = X_tr@B[:,0], X_vl@B[:,0]\n",
    "    # # заполнить таргет предсказанием, чтобы он в фичи не утекал\n",
    "    # X_tr[:,0], X_vl[:,0] = pred_tr, pred_vl\n",
    "    # # инпут значений для дальнейших моделей\n",
    "    # X_tr, X_vl = X_tr@B, X_vl@B\n",
    "\n",
    "\n",
    "\n",
    "    roc = roc_auc_score(y_vl, pred_vl)\n",
    "    rocs.append(roc)\n",
    "    t.set_postfix(roc_auc=roc)\n",
    "print(f\"{np.mean(rocs):.4f} \\pm {np.std(rocs):.4f}\")"
   ]
  },
  {
   "cell_type": "markdown",
   "id": "b29f00ad",
   "metadata": {},
   "source": [
    "max_categories = 25 min_notnan = 0.1\n",
    "| $\\lambda$ | ROC AUC kf20|\n",
    "|---|---|\n",
    "| 2.2e-4 | $0.9580 \\pm 0.0385$ |\n",
    "| 2.3e-4 | $0.9582 \\pm 0.0384$ |\n",
    "| 2.4e-4 | $0.9584 \\pm 0.0382$ |\n",
    "| 2.5e-4 | $0.9586 \\pm 0.0380$ |\n",
    "| 3e-4  | $0.9597 \\pm 0.0371$ |\n",
    "| 4e-4  | $0.9614 \\pm 0.0360$ |\n",
    "| 6e-4  | $0.9640 \\pm 0.0341$ |\n",
    "| 1e-3  | $0.9669 \\pm 0.0312$ |\n",
    "| 5e-3  | $0.9706 \\pm 0.0285$ |\n",
    "| 5e-2  | $0.9722 \\pm 0.0268$ |\n",
    "| 1e-1  | $0.9731 \\pm 0.0258$ |\n",
    "| 5e-1  | $0.9765 \\pm 0.0229$ |\n",
    "| 1     | $0.9757 \\pm 0.0224$ |\n",
    "| 2     | $0.9733 \\pm 0.0216$ |\n",
    "| 10    | $0.9662 \\pm 0.0204$ |"
   ]
  },
  {
   "cell_type": "code",
   "execution_count": 223,
   "id": "1907bb33",
   "metadata": {},
   "outputs": [
    {
     "data": {
      "text/plain": [
       "<Axes: >"
      ]
     },
     "execution_count": 223,
     "metadata": {},
     "output_type": "execute_result"
    },
    {
     "data": {
      "image/png": "[encoded data removed]",
      "text/plain": [
       "<Figure size 640x480 with 1 Axes>"
      ]
     },
     "metadata": {},
     "output_type": "display_data"
    }
   ],
   "source": [
    "df['client_id'].value_counts().hist()"
   ]
  }
 ],
 "metadata": {
  "kernelspec": {
   "display_name": "Python 3 (ipykernel)",
   "language": "python",
   "name": "python3"
  },
  "language_info": {
   "codemirror_mode": {
    "name": "ipython",
    "version": 3
   },
   "file_extension": ".py",
   "mimetype": "text/x-python",
   "name": "python",
   "nbconvert_exporter": "python",
   "pygments_lexer": "ipython3",
   "version": "3.10.6"
  }
 },
 "nbformat": 4,
 "nbformat_minor": 5
}
