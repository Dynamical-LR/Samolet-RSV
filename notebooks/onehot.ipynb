{
 "cells": [
  {
   "cell_type": "code",
   "execution_count": 1,
   "id": "d0c3f817-e3f5-4175-a3c3-8b183f2c8278",
   "metadata": {},
   "outputs": [],
   "source": [
    "import pandas as pd\n",
    "import matplotlib.pyplot as plt\n",
    "import seaborn as sns\n",
    "import numpy as np\n",
    "from tqdm import tqdm\n",
    "import warnings\n",
    "warnings.filterwarnings('ignore')\n",
    "\n",
    "from sklearn.metrics import roc_auc_score, recall_score, precision_score, f1_score, accuracy_score\n",
    "from sklearn.preprocessing import OneHotEncoder, MinMaxScaler\n",
    "from sklearn.model_selection import KFold, TimeSeriesSplit, GroupKFold, GroupShuffleSplit\n",
    "\n",
    "from catboost import CatBoostClassifier\n",
    "from sklearn.neighbors import KNeighborsClassifier\n",
    "from sklearn.linear_model import LogisticRegression"
   ]
  },
  {
   "cell_type": "code",
   "execution_count": 2,
   "id": "a0f6805c-3309-43c2-92ea-570e96691bfa",
   "metadata": {},
   "outputs": [
    {
     "name": "stderr",
     "output_type": "stream",
     "text": [
      "100%|██████████| 2661/2661 [00:02<00:00, 1207.05it/s]\n"
     ]
    },
    {
     "data": {
      "text/plain": [
       "(14456, 12203)"
      ]
     },
     "execution_count": 2,
     "metadata": {},
     "output_type": "execute_result"
    }
   ],
   "source": [
    "df = pd.read_csv(\"../datasets/raw_data/dataset.csv\")\n",
    "target = df['target']\n",
    "# df = pd.DataFrame(df.iloc[:,(df.count(0)/df.shape[0] > 0).values])\n",
    "df['report_date'] = pd.to_datetime(df['report_date'])\n",
    "df = df.sort_values('report_date')\n",
    "df = df.drop(columns=['report_date','col1454'])\n",
    "\n",
    "cols = []\n",
    "for i in tqdm(range(3, df.shape[1])):\n",
    "    ds = df.iloc[:,i]\n",
    "    dtype = df.dtypes[i]\n",
    "\n",
    "    if dtype!=np.object0:\n",
    "        cols.append(ds)\n",
    "    else:\n",
    "        ds = ds.astype(str)\n",
    "        cols.append(pd.Series)()\n",
    "        dsohe = OneHotEncoder(sparse_output=False).fit_transform(np.array(ds.values.reshape((-1,1)), np.object0))\n",
    "        for j in range(dsohe.shape[1]):\n",
    "            cols.append(pd.Series(dsohe[:,j], name=ds.name+'_'+str(j)))\n",
    "dfc = pd.DataFrame(cols).T.fillna(0)\n",
    "dfc.shape"
   ]
  },
  {
   "cell_type": "code",
   "execution_count": 3,
   "id": "c9b1de55",
   "metadata": {},
   "outputs": [],
   "source": [
    "X = MinMaxScaler().fit_transform(dfc)"
   ]
  },
  {
   "cell_type": "code",
   "execution_count": 92,
   "id": "5279909f",
   "metadata": {},
   "outputs": [
    {
     "name": "stderr",
     "output_type": "stream",
     "text": [
      "100%|██████████| 10/10 [00:06<00:00,  1.44it/s, roc_auc=0.496]"
     ]
    },
    {
     "name": "stdout",
     "output_type": "stream",
     "text": [
      "$0.4777 \\pm 0.0199$\n"
     ]
    },
    {
     "name": "stderr",
     "output_type": "stream",
     "text": [
      "\n"
     ]
    }
   ],
   "source": [
    "LAMBDA = 25\n",
    "# Month cross validation\n",
    "rocs = []\n",
    "t = tqdm(KFold(5).split(X), total=5)\n",
    "for tr, vl in t:\n",
    "    X_tr, X_vl = X[tr], X[vl]\n",
    "    y_tr, y_vl = target[tr], target[vl]\n",
    "\n",
    "    X_tr = np.column_stack((y_tr, X_tr))\n",
    "    X_vl = np.column_stack((np.zeros_like(y_vl), X_vl))\n",
    "    \n",
    "    gram = X_tr.T @ X_tr\n",
    "    diag_indices = np.diag_indices(gram.shape[0])\n",
    "    presicion = np.linalg.inv(gram + LAMBDA*np.eye(gram.shape[0]))\n",
    "    B = presicion / (-np.diag(presicion))\n",
    "    B[diag_indices] = 0\n",
    "\n",
    "    pred_tr, pred_vl = X_tr@B[:,0], X_vl@B[:,0]\n",
    "    # # заполнить таргет предсказанием, чтобы он в фичи не утекал\n",
    "    # X_tr[:,0], X_vl[:,0] = pred_tr, pred_vl\n",
    "    # # инпут значений для дальнейших моделей\n",
    "    # X_tr, X_vl = X_tr@B, X_vl@B\n",
    "\n",
    "    roc = roc_auc_score(y_vl, pred_vl)\n",
    "    rocs.append(roc)\n",
    "    t.set_postfix(roc_auc=roc)\n",
    "print(f\"${np.mean(rocs):.4f} \\pm {np.std(rocs):.4f}$\")"
   ]
  },
  {
   "cell_type": "code",
   "execution_count": 4,
   "id": "c8400cb5",
   "metadata": {},
   "outputs": [
    {
     "name": "stdout",
     "output_type": "stream",
     "text": [
      "0.7421\n",
      "0.5239\n"
     ]
    }
   ],
   "source": [
    "# client validation\n",
    "LAMBDA = 25\n",
    "m = df['client_id']<4000\n",
    "X_tr, X_vl = X[m], X[~m]\n",
    "y_tr, y_vl = target[m], target[~m]\n",
    "\n",
    "X_tr = np.column_stack((y_tr, X_tr))\n",
    "X_vl = np.column_stack((np.zeros_like(y_vl), X_vl))\n",
    "gram = X_tr.T @ X_tr\n",
    "diag_indices = np.diag_indices(gram.shape[0])\n",
    "presicion = np.linalg.inv(gram + LAMBDA*np.eye(gram.shape[0]))\n",
    "B = presicion / (-np.diag(presicion))\n",
    "B[diag_indices] = 0\n",
    "pred_tr, pred_vl = X_tr@B[:,0], X_vl@B[:,0]\n",
    "\n",
    "print(f\"{roc_auc_score(y_tr, pred_tr):.4f}\")\n",
    "print(f\"{roc_auc_score(y_vl, pred_vl):.4f}\")"
   ]
  },
  {
   "cell_type": "markdown",
   "id": "10b46c2c",
   "metadata": {},
   "source": [
    "# Scores"
   ]
  },
  {
   "cell_type": "markdown",
   "id": "733d2df9",
   "metadata": {},
   "source": [
    "client split\n",
    "\n",
    "min_not_nan = 0%\n",
    "| model | 10kfold |\n",
    "|---|---|\n",
    "| ease25   | 0.5239 |\n",
    "| knn      | 0.4999 |\n",
    "| catboost | 0.5000 |\n",
    "| linear   | 0.4996 |\n",
    "\n",
    "min_not_nan = 90%\n",
    "| model | 10kfold |\n",
    "|---|---|\n",
    "| ease25   | 0.5049 |\n",
    "| knn      | 0.5000 |\n",
    "| catboost | 0.5000 |\n",
    "| linear   | 0.5000 |"
   ]
  },
  {
   "cell_type": "markdown",
   "id": "b29f00ad",
   "metadata": {},
   "source": [
    "min_not_nan = 10%\n",
    "| $\\lambda$ | 20random | 20kfold |\n",
    "|---|---|---|\n",
    "| 1e-3  | $0.9669 \\pm 0.0312$ | $ $ |\n",
    "| 1e-1  | $0.9731 \\pm 0.0258$ | $0.7097 \\pm 0.0723$ |\n",
    "| 5e-1  | $0.9765 \\pm 0.0229$ | $0.7193 \\pm 0.0686$ |\n",
    "| 1     | $0.9757 \\pm 0.0224$ | $0.7269 \\pm 0.0673$ |\n",
    "| 2     | $0.9733 \\pm 0.0216$ | $0.7364 \\pm 0.0671$ |\n",
    "| 10    | $0.9622 \\pm 0.0204$ | $0.7628 \\pm 0.0681$ |\n",
    "| 25    | $ $ | $0.7721 \\pm 0.0694$ |\n",
    "| 50    | $ $ | $0.7713 \\pm 0.0728$ |\n",
    "\n",
    "Models\n",
    "\n",
    "min_not_nan = 10%\n",
    "| model | 10kfold |\n",
    "|---|---|\n",
    "| ease25   | $0.7664 \\pm 0.0434$ |\n",
    "| knn      | $0.5079 \\pm 0.0140$ |\n",
    "| catboost | $0.5164 \\pm 0.0098$ |\n",
    "| linear   | $0.5077 \\pm 0.0169$ |\n",
    "\n",
    "min_not_nan = 90%\n",
    "| model | 10kfold |\n",
    "|---|---|\n",
    "| ease25   | $0.7429 \\pm 0.0458$ |\n",
    "| knn      | $0.5126 \\pm 0.0090$ |\n",
    "| catboost | $0.5060 \\pm 0.0096$ |\n",
    "| linear   | $0.5008 \\pm 0.0026$ |"
   ]
  }
 ],
 "metadata": {
  "kernelspec": {
   "display_name": "Python 3 (ipykernel)",
   "language": "python",
   "name": "python3"
  },
  "language_info": {
   "codemirror_mode": {
    "name": "ipython",
    "version": 3
   },
   "file_extension": ".py",
   "mimetype": "text/x-python",
   "name": "python",
   "nbconvert_exporter": "python",
   "pygments_lexer": "ipython3",
   "version": "3.10.6"
  }
 },
 "nbformat": 4,
 "nbformat_minor": 5
}
